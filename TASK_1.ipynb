{
  "nbformat": 4,
  "nbformat_minor": 0,
  "metadata": {
    "language_info": {
      "codemirror_mode": {
        "name": "ipython",
        "version": 3
      },
      "file_extension": ".py",
      "mimetype": "text/x-python",
      "name": "python",
      "nbconvert_exporter": "python",
      "pygments_lexer": "ipython3",
      "version": "3.9.0"
    },
    "orig_nbformat": 4,
    "kernelspec": {
      "name": "python3",
      "display_name": "Python 3.9.0 64-bit"
    },
    "interpreter": {
      "hash": "c46e4aa68f638e0e665940f8ccf0c45da67f098d521fb19ba736759101bf7ae4"
    },
    "colab": {
      "name": "TASK_1.ipynb",
      "provenance": [],
      "collapsed_sections": [],
      "include_colab_link": true
    }
  },
  "cells": [
    {
      "cell_type": "markdown",
      "metadata": {
        "id": "view-in-github",
        "colab_type": "text"
      },
      "source": [
        "<a href=\"https://colab.research.google.com/github/skayush/Data-Science/blob/main/TASK_1.ipynb\" target=\"_parent\"><img src=\"https://colab.research.google.com/assets/colab-badge.svg\" alt=\"Open In Colab\"/></a>"
      ]
    },
    {
      "cell_type": "markdown",
      "metadata": {
        "id": "QR7X70qQyzy8"
      },
      "source": [
        "# **NAME: AYUSH KUMAR SINGH**\n",
        "# **TASK 1: Prediction Using Supervised ML**\n",
        "In this task, we have to predict the scores that a student is expected to get based upon the number of hours they have studied. This task is based on simple linear regression model as it involves just two variables.\n",
        "\n"
      ]
    },
    {
      "cell_type": "code",
      "metadata": {
        "id": "74LCXOO3yzzC"
      },
      "source": [
        "# Importing all libraries required in this notebook\n",
        "import pandas as pd \n",
        "import numpy as np \n",
        "import matplotlib.pyplot as plt\n",
        "from sklearn import linear_model\n",
        "from sklearn.model_selection import train_test_split\n",
        "from sklearn import metrics \n",
        "\n",
        "\n"
      ],
      "execution_count": null,
      "outputs": []
    },
    {
      "cell_type": "markdown",
      "metadata": {
        "id": "7I5as6aCZtdG"
      },
      "source": [
        "**Step 1: Reading data from online source**"
      ]
    },
    {
      "cell_type": "code",
      "metadata": {
        "id": "fz_r1VXzyzzF",
        "colab": {
          "base_uri": "https://localhost:8080/"
        },
        "outputId": "b936bc94-3fd7-4921-d4c8-2af734a983cb"
      },
      "source": [
        "# Reading data from remote link\n",
        "url = \"http://bit.ly/w-data\"\n",
        "student_data = pd.read_csv(url)\n",
        "Study_Hours=np.asarray(student_data['Hours'])\n",
        "Student_Scores=np.asarray(student_data['Scores'])\n",
        "print(student_data)\n"
      ],
      "execution_count": null,
      "outputs": [
        {
          "output_type": "stream",
          "name": "stdout",
          "text": [
            "    Hours  Scores\n",
            "0     2.5      21\n",
            "1     5.1      47\n",
            "2     3.2      27\n",
            "3     8.5      75\n",
            "4     3.5      30\n",
            "5     1.5      20\n",
            "6     9.2      88\n",
            "7     5.5      60\n",
            "8     8.3      81\n",
            "9     2.7      25\n",
            "10    7.7      85\n",
            "11    5.9      62\n",
            "12    4.5      41\n",
            "13    3.3      42\n",
            "14    1.1      17\n",
            "15    8.9      95\n",
            "16    2.5      30\n",
            "17    1.9      24\n",
            "18    6.1      67\n",
            "19    7.4      69\n",
            "20    2.7      30\n",
            "21    4.8      54\n",
            "22    3.8      35\n",
            "23    6.9      76\n",
            "24    7.8      86\n"
          ]
        }
      ]
    },
    {
      "cell_type": "markdown",
      "metadata": {
        "id": "f20mprDac5Qh"
      },
      "source": [
        "**Step 2: Preparing the data**\n",
        "\n",
        "The next step is to divide the data into \"attributes\" (inputs) and \"labels\"(outputs).\n"
      ]
    },
    {
      "cell_type": "code",
      "metadata": {
        "id": "lFKgjJjDb6LE"
      },
      "source": [
        "x = student_data.iloc[:, :-1].values  \n",
        "y = student_data.iloc[:, 1].values "
      ],
      "execution_count": null,
      "outputs": []
    },
    {
      "cell_type": "markdown",
      "metadata": {
        "id": "eBYY-O16bTTb"
      },
      "source": [
        "**Step 3: Data Visualization**\n",
        "\n",
        "Plotting data points on 2-D graph to observe our dataset and see if we can manually find any relationship between the data. We can create the plot with the following script:"
      ]
    },
    {
      "cell_type": "code",
      "metadata": {
        "id": "EGT675Ta5XYM",
        "colab": {
          "base_uri": "https://localhost:8080/",
          "height": 295
        },
        "outputId": "6fbd6f5f-abaf-4778-ef88-8201f5441a48"
      },
      "source": [
        "# plotting the distribution of Scores\n",
        "plt.plot(x,y,'r*')\n",
        "plt.xlabel('Study Hours')\n",
        "plt.ylabel('Student Scores')\n",
        "plt.title('Scores vs Hours')\n",
        "plt.legend('Scores')\n",
        "plt.grid(alpha=0.3)\n",
        "plt.show()"
      ],
      "execution_count": null,
      "outputs": [
        {
          "output_type": "display_data",
          "data": {
            "image/png": "[encoded data removed]",
            "text/plain": [
              "<Figure size 432x288 with 1 Axes>"
            ]
          },
          "metadata": {
            "needs_background": "light"
          }
        }
      ]
    },
    {
      "cell_type": "markdown",
      "metadata": {
        "id": "rzRjUctPfVVD"
      },
      "source": [
        "*From the graph above, we can clearly see that there is a positive linear relation between the number Study hours and Student Scores.*"
      ]
    },
    {
      "cell_type": "markdown",
      "metadata": {
        "id": "MiKO_sR5fvm_"
      },
      "source": [
        "**Step 4: Algorithm Training**\n",
        "\n",
        "\n",
        "Splitting the data into training data-set and test data-set. Then, starting of\n",
        "training the algorithm."
      ]
    },
    {
      "cell_type": "code",
      "metadata": {
        "id": "RpELAjGP8cZN",
        "colab": {
          "base_uri": "https://localhost:8080/"
        },
        "outputId": "6d0952a9-477b-4d4b-b722-e5b1c808f8f9"
      },
      "source": [
        "x_train, x_test, y_train, y_test = train_test_split(x, y, test_size=0.2, random_state=5)\n",
        "lg=linear_model.LinearRegression()\n",
        "lg.fit(x_train,y_train)\n",
        "print('Training Done')\n"
      ],
      "execution_count": null,
      "outputs": [
        {
          "output_type": "stream",
          "name": "stdout",
          "text": [
            "Training Done\n"
          ]
        }
      ]
    },
    {
      "cell_type": "markdown",
      "metadata": {
        "id": "aXSjYSqQmngm"
      },
      "source": [
        "Plotting the Line of Regression"
      ]
    },
    {
      "cell_type": "code",
      "metadata": {
        "id": "DXhwuTrb3CRW",
        "colab": {
          "base_uri": "https://localhost:8080/",
          "height": 295
        },
        "outputId": "dae6ba32-4e8e-4e2e-b8b0-daf71de3b2ae"
      },
      "source": [
        "\n",
        "# Plotting the regression line\n",
        "d=x*lg.coef_+lg.intercept_\n",
        "# Plotting for the test data\n",
        "plt.plot(x,y,'r*')\n",
        "plt.xlabel('Study Hours')\n",
        "plt.ylabel('Student Scores')\n",
        "plt.title('Scores vs Hours')\n",
        "plt.grid(alpha=0.3)\n",
        "plt.plot(x,d)\n",
        "plt.show()"
      ],
      "execution_count": null,
      "outputs": [
        {
          "output_type": "display_data",
          "data": {
            "image/png": "[encoded data removed]",
            "text/plain": [
              "<Figure size 432x288 with 1 Axes>"
            ]
          },
          "metadata": {
            "needs_background": "light"
          }
        }
      ]
    },
    {
      "cell_type": "markdown",
      "metadata": {
        "id": "HDAfpTQIhtuo"
      },
      "source": [
        "**Step 5: Making Predictions**\n",
        "\n",
        "\n",
        "Now that we have trained our algorithm, it's time to make some predictions."
      ]
    },
    {
      "cell_type": "code",
      "metadata": {
        "id": "HFBeqFWw_va7",
        "colab": {
          "base_uri": "https://localhost:8080/"
        },
        "outputId": "25125bf1-ca87-4083-ff26-586fe561888a"
      },
      "source": [
        "print(x_test)  # Testing data - In Hours\n",
        "y_pred = lg.predict(x_test) # Predicting the scores"
      ],
      "execution_count": null,
      "outputs": [
        {
          "output_type": "stream",
          "name": "stdout",
          "text": [
            "[[7.4]\n",
            " [6.1]\n",
            " [3.2]\n",
            " [7.7]\n",
            " [4.8]]\n"
          ]
        }
      ]
    },
    {
      "cell_type": "code",
      "metadata": {
        "id": "LA8EJuChAy64",
        "colab": {
          "base_uri": "https://localhost:8080/"
        },
        "outputId": "c752127b-a5c1-4fe9-a13e-71df99df7ae8"
      },
      "source": [
        "# Comparing Actual vs Predicted Scores\n",
        "difference = pd.DataFrame({'Actual': y_test, 'Predicted': y_pred})  \n",
        "print(difference)"
      ],
      "execution_count": null,
      "outputs": [
        {
          "output_type": "stream",
          "name": "stdout",
          "text": [
            "   Actual  Predicted\n",
            "0      69  74.174939\n",
            "1      67  61.688457\n",
            "2      27  33.833997\n",
            "3      85  77.056435\n",
            "4      54  49.201975\n"
          ]
        }
      ]
    },
    {
      "cell_type": "code",
      "metadata": {
        "id": "suvFvUvx-z3V",
        "colab": {
          "base_uri": "https://localhost:8080/"
        },
        "outputId": "8bd0bc21-6590-48d1-b84f-fbbf146146ec"
      },
      "source": [
        "# Testing your own data\n",
        "Hrs=9.25\n",
        "Predicted_Score = lg.predict([[Hrs]])\n",
        "print(\"No of Hours = {}\".format(Hrs))\n",
        "print(\"Predicted Score = {}\".format(Predicted_Score[0]))\n"
      ],
      "execution_count": null,
      "outputs": [
        {
          "output_type": "stream",
          "name": "stdout",
          "text": [
            "No of Hours = 9.25\n",
            "Predicted Score = 91.94416404722054\n"
          ]
        }
      ]
    },
    {
      "cell_type": "markdown",
      "metadata": {
        "id": "ibJhNnVHilGx"
      },
      "source": [
        "**Step 6: Evaluating the model**\n",
        "\n",
        "\n",
        "The final step is to evaluate the performance of algorithm. This step is particularly important to compare how well different algorithms perform on a particular dataset.  Here, we have chosen the mean absolute error, mean squared error, root mean squared error. There are many such metrics."
      ]
    },
    {
      "cell_type": "code",
      "metadata": {
        "id": "Y3U7yTe0yzzH",
        "colab": {
          "base_uri": "https://localhost:8080/"
        },
        "outputId": "8fb21bc7-d02d-42e3-f6b6-9129ba157939"
      },
      "source": [
        "print('Mean Absolute Error:', metrics.mean_absolute_error(y_test, y_pred))\n",
        "print('Mean Squared Error:', metrics.mean_squared_error(y_test, y_pred))\n",
        "print('Root mean squared Error:', np.sqrt(metrics.mean_squared_error(y_test, y_pred)))"
      ],
      "execution_count": null,
      "outputs": [
        {
          "output_type": "stream",
          "name": "stdout",
          "text": [
            "Mean Absolute Error: 6.0124137623905725\n",
            "Mean Squared Error: 37.563452579516046\n",
            "Root mean squared Error: 6.128903048630811\n"
          ]
        }
      ]
    }
  ]
}