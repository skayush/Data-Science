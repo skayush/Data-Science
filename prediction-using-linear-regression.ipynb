{
 "cells": [
  {
   "cell_type": "code",
   "execution_count": 1,
   "id": "0a544947",
   "metadata": {
    "_cell_guid": "b1076dfc-b9ad-4769-8c92-a6c4dae69d19",
    "_uuid": "8f2839f25d086af736a60e9eeb907d3b93b6e0e5",
    "execution": {
     "iopub.execute_input": "2021-07-19T12:39:03.398507Z",
     "iopub.status.busy": "2021-07-19T12:39:03.392554Z",
     "iopub.status.idle": "2021-07-19T12:39:03.412906Z",
     "shell.execute_reply": "2021-07-19T12:39:03.411950Z"
    },
    "papermill": {
     "duration": 0.045656,
     "end_time": "2021-07-19T12:39:03.413097",
     "exception": false,
     "start_time": "2021-07-19T12:39:03.367441",
     "status": "completed"
    },
    "tags": []
   },
   "outputs": [
    {
     "name": "stdout",
     "output_type": "stream",
     "text": [
      "/kaggle/input/student-study-hour-v2/Student Study Hour V2.csv\n"
     ]
    }
   ],
   "source": [
    "# This Python 3 environment comes with many helpful analytics libraries installed\n",
    "# It is defined by the kaggle/python Docker image: https://github.com/kaggle/docker-python\n",
    "# For example, here's several helpful packages to load\n",
    "\n",
    "import numpy as np # linear algebra\n",
    "import pandas as pd # data processing, CSV file I/O (e.g. pd.read_csv)\n",
    "\n",
    "# Input data files are available in the read-only \"../input/\" directory\n",
    "# For example, running this (by clicking run or pressing Shift+Enter) will list all files under the input directory\n",
    "\n",
    "import os\n",
    "for dirname, _, filenames in os.walk('/kaggle/input'):\n",
    "    for filename in filenames:\n",
    "        print(os.path.join(dirname, filename))\n",
    "\n",
    "# You can write up to 20GB to the current directory (/kaggle/working/) that gets preserved as output when you create a version using \"Save & Run All\" \n",
    "# You can also write temporary files to /kaggle/temp/, but they won't be saved outside of the current session"
   ]
  },
  {
   "cell_type": "markdown",
   "id": "28da75ec",
   "metadata": {
    "papermill": {
     "duration": 0.01463,
     "end_time": "2021-07-19T12:39:03.444677",
     "exception": false,
     "start_time": "2021-07-19T12:39:03.430047",
     "status": "completed"
    },
    "tags": []
   },
   "source": [
    "**Prediction Using Supervised ML**\n",
    "\n",
    "\n",
    "In this task, we will predict the scores that a student is expected to get based upon the number of hours they have studied. This task is based on simple linear regression model as it involves just two variables."
   ]
  },
  {
   "cell_type": "code",
   "execution_count": 2,
   "id": "000144c3",
   "metadata": {
    "execution": {
     "iopub.execute_input": "2021-07-19T12:39:03.481140Z",
     "iopub.status.busy": "2021-07-19T12:39:03.480371Z",
     "iopub.status.idle": "2021-07-19T12:39:04.737499Z",
     "shell.execute_reply": "2021-07-19T12:39:04.736921Z",
     "shell.execute_reply.started": "2021-07-19T12:19:30.879137Z"
    },
    "papermill": {
     "duration": 1.276474,
     "end_time": "2021-07-19T12:39:04.737661",
     "exception": false,
     "start_time": "2021-07-19T12:39:03.461187",
     "status": "completed"
    },
    "tags": []
   },
   "outputs": [],
   "source": [
    "# Importing all libraries required in this notebook\n",
    "import pandas as pd \n",
    "import numpy as np \n",
    "import matplotlib.pyplot as plt\n",
    "from sklearn import linear_model\n",
    "from sklearn.model_selection import train_test_split\n",
    "from sklearn import metrics "
   ]
  },
  {
   "cell_type": "markdown",
   "id": "dcb85367",
   "metadata": {
    "papermill": {
     "duration": 0.014353,
     "end_time": "2021-07-19T12:39:04.767440",
     "exception": false,
     "start_time": "2021-07-19T12:39:04.753087",
     "status": "completed"
    },
    "tags": []
   },
   "source": [
    "**Step 1: Reading data from online source**"
   ]
  },
  {
   "cell_type": "code",
   "execution_count": 3,
   "id": "46f0093e",
   "metadata": {
    "execution": {
     "iopub.execute_input": "2021-07-19T12:39:04.802335Z",
     "iopub.status.busy": "2021-07-19T12:39:04.801565Z",
     "iopub.status.idle": "2021-07-19T12:39:04.836048Z",
     "shell.execute_reply": "2021-07-19T12:39:04.836593Z",
     "shell.execute_reply.started": "2021-07-19T12:19:35.817580Z"
    },
    "papermill": {
     "duration": 0.054879,
     "end_time": "2021-07-19T12:39:04.836777",
     "exception": false,
     "start_time": "2021-07-19T12:39:04.781898",
     "status": "completed"
    },
    "tags": []
   },
   "outputs": [
    {
     "name": "stdout",
     "output_type": "stream",
     "text": [
      "    Hours  Scores\n",
      "0     2.5      21\n",
      "1     5.1      47\n",
      "2     3.2      27\n",
      "3     8.5      75\n",
      "4     3.5      30\n",
      "5     1.5      20\n",
      "6     9.2      88\n",
      "7     5.5      60\n",
      "8     8.3      81\n",
      "9     2.7      25\n",
      "10    7.7      85\n",
      "11    5.9      62\n",
      "12    4.5      41\n",
      "13    3.3      42\n",
      "14    1.1      17\n",
      "15    8.9      95\n",
      "16    2.5      30\n",
      "17    1.9      24\n",
      "18    6.1      67\n",
      "19    7.4      69\n",
      "20    2.7      30\n",
      "21    4.8      54\n",
      "22    3.8      35\n",
      "23    6.9      76\n",
      "24    7.8      86\n",
      "25    1.3      19\n",
      "26    2.6      30\n",
      "27    6.1      63\n"
     ]
    }
   ],
   "source": [
    "# Reading data from remote link\n",
    "url =  '../input/student-study-hour-v2/Student Study Hour V2.csv'\n",
    "student_data = pd.read_csv(url)\n",
    "Study_Hours=np.asarray(student_data['Hours'])\n",
    "Student_Scores=np.asarray(student_data['Scores'])\n",
    "print(student_data)\n"
   ]
  },
  {
   "cell_type": "markdown",
   "id": "4237c90f",
   "metadata": {
    "papermill": {
     "duration": 0.017511,
     "end_time": "2021-07-19T12:39:04.870077",
     "exception": false,
     "start_time": "2021-07-19T12:39:04.852566",
     "status": "completed"
    },
    "tags": []
   },
   "source": [
    "**Step 2: Preparing the data**\n",
    "\n",
    "The next step is to divide the data into \"attributes\" (inputs) and \"labels\"(outputs)."
   ]
  },
  {
   "cell_type": "code",
   "execution_count": 4,
   "id": "333aa2ba",
   "metadata": {
    "execution": {
     "iopub.execute_input": "2021-07-19T12:39:04.911307Z",
     "iopub.status.busy": "2021-07-19T12:39:04.909887Z",
     "iopub.status.idle": "2021-07-19T12:39:04.912706Z",
     "shell.execute_reply": "2021-07-19T12:39:04.912090Z",
     "shell.execute_reply.started": "2021-07-19T12:19:49.129467Z"
    },
    "papermill": {
     "duration": 0.02483,
     "end_time": "2021-07-19T12:39:04.912921",
     "exception": false,
     "start_time": "2021-07-19T12:39:04.888091",
     "status": "completed"
    },
    "tags": []
   },
   "outputs": [],
   "source": [
    "x = student_data.iloc[:, :-1].values  \n",
    "y = student_data.iloc[:, 1].values "
   ]
  },
  {
   "cell_type": "markdown",
   "id": "f5b22c11",
   "metadata": {
    "papermill": {
     "duration": 0.014525,
     "end_time": "2021-07-19T12:39:04.942540",
     "exception": false,
     "start_time": "2021-07-19T12:39:04.928015",
     "status": "completed"
    },
    "tags": []
   },
   "source": [
    "**Step 3: Data Visualization**\n",
    "\n",
    "Plotting data points on 2-D graph to observe our dataset and see if we can manually find any relationship between the data. We can create the plot with the following script:"
   ]
  },
  {
   "cell_type": "code",
   "execution_count": 5,
   "id": "59520bc8",
   "metadata": {
    "execution": {
     "iopub.execute_input": "2021-07-19T12:39:04.977201Z",
     "iopub.status.busy": "2021-07-19T12:39:04.976466Z",
     "iopub.status.idle": "2021-07-19T12:39:05.218347Z",
     "shell.execute_reply": "2021-07-19T12:39:05.217659Z",
     "shell.execute_reply.started": "2021-07-19T12:19:52.708319Z"
    },
    "papermill": {
     "duration": 0.259587,
     "end_time": "2021-07-19T12:39:05.218490",
     "exception": false,
     "start_time": "2021-07-19T12:39:04.958903",
     "status": "completed"
    },
    "tags": []
   },
   "outputs": [
    {
     "data": {
      "image/png": "[encoded data removed]",
      "text/plain": [
       "<Figure size 432x288 with 1 Axes>"
      ]
     },
     "metadata": {
      "needs_background": "light"
     },
     "output_type": "display_data"
    }
   ],
   "source": [
    "# plotting the distribution of Scores\n",
    "plt.plot(x,y,'r*')\n",
    "plt.xlabel('Study Hours')\n",
    "plt.ylabel('Student Scores')\n",
    "plt.title('Scores vs Hours')\n",
    "plt.legend('Scores')\n",
    "plt.grid(alpha=0.3)\n",
    "plt.show()"
   ]
  },
  {
   "cell_type": "markdown",
   "id": "3d7e36f7",
   "metadata": {
    "papermill": {
     "duration": 0.015561,
     "end_time": "2021-07-19T12:39:05.250038",
     "exception": false,
     "start_time": "2021-07-19T12:39:05.234477",
     "status": "completed"
    },
    "tags": []
   },
   "source": [
    "From the graph above, we can clearly see that there is a positive linear relation between the number Study hours and Student Scores."
   ]
  },
  {
   "cell_type": "markdown",
   "id": "03f69041",
   "metadata": {
    "papermill": {
     "duration": 0.016009,
     "end_time": "2021-07-19T12:39:05.284181",
     "exception": false,
     "start_time": "2021-07-19T12:39:05.268172",
     "status": "completed"
    },
    "tags": []
   },
   "source": [
    "**Step 4: Algorithm Training**\n",
    "\n",
    "Splitting the data into training data-set and test data-set. Then, starting of training the algorithm."
   ]
  },
  {
   "cell_type": "code",
   "execution_count": 6,
   "id": "6677087e",
   "metadata": {
    "execution": {
     "iopub.execute_input": "2021-07-19T12:39:05.498021Z",
     "iopub.status.busy": "2021-07-19T12:39:05.324447Z",
     "iopub.status.idle": "2021-07-19T12:39:05.502685Z",
     "shell.execute_reply": "2021-07-19T12:39:05.502146Z",
     "shell.execute_reply.started": "2021-07-19T12:20:30.008403Z"
    },
    "papermill": {
     "duration": 0.202125,
     "end_time": "2021-07-19T12:39:05.502836",
     "exception": false,
     "start_time": "2021-07-19T12:39:05.300711",
     "status": "completed"
    },
    "tags": []
   },
   "outputs": [
    {
     "name": "stdout",
     "output_type": "stream",
     "text": [
      "Training Done\n"
     ]
    }
   ],
   "source": [
    "x_train, x_test, y_train, y_test = train_test_split(x, y, test_size=0.2, random_state=5)\n",
    "lg=linear_model.LinearRegression()\n",
    "lg.fit(x_train,y_train)\n",
    "print('Training Done')"
   ]
  },
  {
   "cell_type": "markdown",
   "id": "c13d77f0",
   "metadata": {
    "papermill": {
     "duration": 0.016084,
     "end_time": "2021-07-19T12:39:05.537530",
     "exception": false,
     "start_time": "2021-07-19T12:39:05.521446",
     "status": "completed"
    },
    "tags": []
   },
   "source": [
    "**Plotting the Line of Regression**"
   ]
  },
  {
   "cell_type": "code",
   "execution_count": 7,
   "id": "04d86688",
   "metadata": {
    "execution": {
     "iopub.execute_input": "2021-07-19T12:39:05.622244Z",
     "iopub.status.busy": "2021-07-19T12:39:05.609320Z",
     "iopub.status.idle": "2021-07-19T12:39:05.770186Z",
     "shell.execute_reply": "2021-07-19T12:39:05.769524Z",
     "shell.execute_reply.started": "2021-07-19T12:23:29.228739Z"
    },
    "papermill": {
     "duration": 0.215831,
     "end_time": "2021-07-19T12:39:05.770335",
     "exception": false,
     "start_time": "2021-07-19T12:39:05.554504",
     "status": "completed"
    },
    "tags": []
   },
   "outputs": [
    {
     "data": {
      "image/png": "[encoded data removed]",
      "text/plain": [
       "<Figure size 432x288 with 1 Axes>"
      ]
     },
     "metadata": {
      "needs_background": "light"
     },
     "output_type": "display_data"
    }
   ],
   "source": [
    "# Plotting the regression line\n",
    "d=x*lg.coef_+lg.intercept_\n",
    "# Plotting for the test data\n",
    "plt.plot(x,y,'r*')\n",
    "plt.xlabel('Study Hours')\n",
    "plt.ylabel('Student Scores')\n",
    "plt.title('Scores vs Hours')\n",
    "plt.grid(alpha=0.3)\n",
    "plt.plot(x,d)\n",
    "plt.show()"
   ]
  },
  {
   "cell_type": "markdown",
   "id": "8e9b729b",
   "metadata": {
    "papermill": {
     "duration": 0.016762,
     "end_time": "2021-07-19T12:39:05.804165",
     "exception": false,
     "start_time": "2021-07-19T12:39:05.787403",
     "status": "completed"
    },
    "tags": []
   },
   "source": [
    "**Step 5: Making Predictions**\n",
    "\n",
    "Now that we have trained our algorithm, it's time to make some predictions."
   ]
  },
  {
   "cell_type": "code",
   "execution_count": 8,
   "id": "cdaaec4c",
   "metadata": {
    "execution": {
     "iopub.execute_input": "2021-07-19T12:39:05.850260Z",
     "iopub.status.busy": "2021-07-19T12:39:05.848878Z",
     "iopub.status.idle": "2021-07-19T12:39:05.854530Z",
     "shell.execute_reply": "2021-07-19T12:39:05.855121Z",
     "shell.execute_reply.started": "2021-07-19T12:25:14.766201Z"
    },
    "papermill": {
     "duration": 0.02975,
     "end_time": "2021-07-19T12:39:05.855307",
     "exception": false,
     "start_time": "2021-07-19T12:39:05.825557",
     "status": "completed"
    },
    "tags": []
   },
   "outputs": [
    {
     "name": "stdout",
     "output_type": "stream",
     "text": [
      "[[7.7]\n",
      " [6.1]\n",
      " [5.9]\n",
      " [2.7]\n",
      " [4.8]\n",
      " [3.2]]\n"
     ]
    }
   ],
   "source": [
    "print(x_test)  # Testing data - In Hours\n",
    "y_pred = lg.predict(x_test) # Predicting the scores"
   ]
  },
  {
   "cell_type": "code",
   "execution_count": 9,
   "id": "b3a3895e",
   "metadata": {
    "execution": {
     "iopub.execute_input": "2021-07-19T12:39:05.902392Z",
     "iopub.status.busy": "2021-07-19T12:39:05.901613Z",
     "iopub.status.idle": "2021-07-19T12:39:05.905942Z",
     "shell.execute_reply": "2021-07-19T12:39:05.906835Z",
     "shell.execute_reply.started": "2021-07-19T12:25:19.447308Z"
    },
    "papermill": {
     "duration": 0.033558,
     "end_time": "2021-07-19T12:39:05.907052",
     "exception": false,
     "start_time": "2021-07-19T12:39:05.873494",
     "status": "completed"
    },
    "tags": []
   },
   "outputs": [
    {
     "name": "stdout",
     "output_type": "stream",
     "text": [
      "   Actual  Predicted\n",
      "0      85  76.722139\n",
      "1      63  61.593158\n",
      "2      62  59.702035\n",
      "3      30  29.444072\n",
      "4      54  49.300860\n",
      "5      27  34.171879\n"
     ]
    }
   ],
   "source": [
    "# Comparing Actual vs Predicted Scores\n",
    "difference = pd.DataFrame({'Actual': y_test, 'Predicted': y_pred})  \n",
    "print(difference)"
   ]
  },
  {
   "cell_type": "code",
   "execution_count": 10,
   "id": "d6f42514",
   "metadata": {
    "execution": {
     "iopub.execute_input": "2021-07-19T12:39:05.950530Z",
     "iopub.status.busy": "2021-07-19T12:39:05.949582Z",
     "iopub.status.idle": "2021-07-19T12:39:05.953401Z",
     "shell.execute_reply": "2021-07-19T12:39:05.954032Z",
     "shell.execute_reply.started": "2021-07-19T12:25:30.027403Z"
    },
    "papermill": {
     "duration": 0.028135,
     "end_time": "2021-07-19T12:39:05.954203",
     "exception": false,
     "start_time": "2021-07-19T12:39:05.926068",
     "status": "completed"
    },
    "tags": []
   },
   "outputs": [
    {
     "name": "stdout",
     "output_type": "stream",
     "text": [
      "No of Hours = 9.25\n",
      "Predicted Score = 91.3783397661833\n"
     ]
    }
   ],
   "source": [
    "# Testing our own data\n",
    "Hrs=9.25\n",
    "Predicted_Score = lg.predict([[Hrs]])\n",
    "print(\"No of Hours = {}\".format(Hrs))\n",
    "print(\"Predicted Score = {}\".format(Predicted_Score[0]))"
   ]
  },
  {
   "cell_type": "markdown",
   "id": "fbfbc542",
   "metadata": {
    "papermill": {
     "duration": 0.018119,
     "end_time": "2021-07-19T12:39:05.990270",
     "exception": false,
     "start_time": "2021-07-19T12:39:05.972151",
     "status": "completed"
    },
    "tags": []
   },
   "source": [
    "**Step 6: Evaluating the model**\n",
    "\n",
    "The final step is to evaluate the performance of algorithm. This step is particularly important to compare how well different algorithms perform on a particular dataset. Here, we have chosen the mean absolute error, mean squared error, root mean squared error. There are many such metrics."
   ]
  },
  {
   "cell_type": "code",
   "execution_count": 11,
   "id": "effa063a",
   "metadata": {
    "execution": {
     "iopub.execute_input": "2021-07-19T12:39:06.034595Z",
     "iopub.status.busy": "2021-07-19T12:39:06.033735Z",
     "iopub.status.idle": "2021-07-19T12:39:06.037420Z",
     "shell.execute_reply": "2021-07-19T12:39:06.036746Z",
     "shell.execute_reply.started": "2021-07-19T12:25:34.067650Z"
    },
    "papermill": {
     "duration": 0.028744,
     "end_time": "2021-07-19T12:39:06.037579",
     "exception": false,
     "start_time": "2021-07-19T12:39:06.008835",
     "status": "completed"
    },
    "tags": []
   },
   "outputs": [
    {
     "name": "stdout",
     "output_type": "stream",
     "text": [
      "Mean Absolute Error: 4.068269048927878\n",
      "Mean Squared Error: 24.93494113592172\n",
      "Root mean squared Error: 4.993489875419967\n"
     ]
    }
   ],
   "source": [
    "print('Mean Absolute Error:', metrics.mean_absolute_error(y_test, y_pred))\n",
    "print('Mean Squared Error:', metrics.mean_squared_error(y_test, y_pred))\n",
    "print('Root mean squared Error:', np.sqrt(metrics.mean_squared_error(y_test, y_pred)))"
   ]
  }
 ],
 "metadata": {
  "kernelspec": {
   "display_name": "Python 3",
   "language": "python",
   "name": "python3"
  },
  "language_info": {
   "codemirror_mode": {
    "name": "ipython",
    "version": 3
   },
   "file_extension": ".py",
   "mimetype": "text/x-python",
   "name": "python",
   "nbconvert_exporter": "python",
   "pygments_lexer": "ipython3",
   "version": "3.7.10"
  },
  "papermill": {
   "default_parameters": {},
   "duration": 13.930131,
   "end_time": "2021-07-19T12:39:07.754299",
   "environment_variables": {},
   "exception": null,
   "input_path": "__notebook__.ipynb",
   "output_path": "__notebook__.ipynb",
   "parameters": {},
   "start_time": "2021-07-19T12:38:53.824168",
   "version": "2.3.3"
  }
 },
 "nbformat": 4,
 "nbformat_minor": 5
}
